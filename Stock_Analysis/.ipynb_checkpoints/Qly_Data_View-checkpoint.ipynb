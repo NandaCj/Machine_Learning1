{
 "cells": [
  {
   "cell_type": "code",
   "execution_count": 78,
   "metadata": {},
   "outputs": [
    {
     "name": "stdout",
     "output_type": "stream",
     "text": [
      "C:\\Users\\nandpara\\PycharmProjects\\Machine_Learning1\\Stock_AnalysisQly_Details.csv\n"
     ]
    }
   ],
   "source": [
    "import pandas as pd\n",
    "import os\n",
    "file_name = \"Stock_AnalysisQly_Details1.csv\"\n",
    "CSV_FILE = os.path.join(os.path.dirname(os.getcwd()), file_name)\n",
    "print(CSV_FILE)"
   ]
  },
  {
   "cell_type": "code",
   "execution_count": 79,
   "metadata": {},
   "outputs": [
    {
     "name": "stderr",
     "output_type": "stream",
     "text": [
      "c:\\users\\nandpara\\appdata\\local\\programs\\python\\python36\\lib\\site-packages\\ipykernel_launcher.py:1: FutureWarning: from_csv is deprecated. Please use read_csv(...) instead. Note that some of the default arguments are different, so please refer to the documentation for from_csv when changing your function calls\n",
      "  \"\"\"Entry point for launching an IPython kernel.\n"
     ]
    }
   ],
   "source": [
    "QSheet = pd.DataFrame.from_csv(CSV_FILE)"
   ]
  },
  {
   "cell_type": "code",
   "execution_count": 74,
   "metadata": {},
   "outputs": [
    {
     "name": "stdout",
     "output_type": "stream",
     "text": [
      "<class 'pandas.core.frame.DataFrame'>\n",
      "Index: 1527 entries, 20MICRONS to ZYLOG\n",
      "Data columns (total 48 columns):\n",
      "RQ_1_2_PAT_PChg                 1147 non-null float64\n",
      "RQ_1_2_Operating_Profit_PChg    1147 non-null float64\n",
      "RQ_1_2_Total_Exp_PChg           1147 non-null float64\n",
      "RQ_1_2_Ebit_PChg                1147 non-null float64\n",
      "RQ_1_2_Ebitda_PChg              1147 non-null float64\n",
      "RQ_1_2_Close_PChg               1112 non-null float64\n",
      "RQ_2_3_PAT_PChg                 1494 non-null float64\n",
      "RQ_2_3_Operating_Profit_PChg    1494 non-null float64\n",
      "RQ_2_3_Total_Exp_PChg           1494 non-null float64\n",
      "RQ_2_3_Ebit_PChg                1494 non-null float64\n",
      "RQ_2_3_Ebitda_PChg              1494 non-null float64\n",
      "RQ_2_3_Close_PChg               1418 non-null float64\n",
      "RQ_3_4_PAT_PChg                 1514 non-null float64\n",
      "RQ_3_4_Operating_Profit_PChg    1514 non-null float64\n",
      "RQ_3_4_Total_Exp_PChg           1514 non-null float64\n",
      "RQ_3_4_Ebit_PChg                1514 non-null float64\n",
      "RQ_3_4_Ebitda_PChg              1514 non-null float64\n",
      "RQ_3_4_Close_PChg               1448 non-null float64\n",
      "RQ_4_5_PAT_PChg                 1520 non-null float64\n",
      "RQ_4_5_Operating_Profit_PChg    1520 non-null float64\n",
      "RQ_4_5_Total_Exp_PChg           1520 non-null float64\n",
      "RQ_4_5_Ebit_PChg                1520 non-null float64\n",
      "RQ_4_5_Ebitda_PChg              1520 non-null float64\n",
      "RQ_4_5_Close_PChg               1446 non-null float64\n",
      "RQ_5_6_PAT_PChg                 377 non-null float64\n",
      "RQ_5_6_Operating_Profit_PChg    377 non-null float64\n",
      "RQ_5_6_Total_Exp_PChg           377 non-null float64\n",
      "RQ_5_6_Ebit_PChg                377 non-null float64\n",
      "RQ_5_6_Ebitda_PChg              377 non-null float64\n",
      "RQ_5_6_Close_PChg               341 non-null float64\n",
      "RQ_6_7_PAT_PChg                 32 non-null float64\n",
      "RQ_6_7_Operating_Profit_PChg    32 non-null float64\n",
      "RQ_6_7_Total_Exp_PChg           32 non-null float64\n",
      "RQ_6_7_Ebit_PChg                32 non-null float64\n",
      "RQ_6_7_Ebitda_PChg              32 non-null float64\n",
      "RQ_6_7_Close_PChg               30 non-null float64\n",
      "RQ_7_8_PAT_PChg                 13 non-null float64\n",
      "RQ_7_8_Operating_Profit_PChg    13 non-null float64\n",
      "RQ_7_8_Total_Exp_PChg           13 non-null float64\n",
      "RQ_7_8_Ebit_PChg                13 non-null float64\n",
      "RQ_7_8_Ebitda_PChg              13 non-null float64\n",
      "RQ_7_8_Close_PChg               12 non-null float64\n",
      "RQ_8_9_PAT_PChg                 6 non-null float64\n",
      "RQ_8_9_Operating_Profit_PChg    6 non-null float64\n",
      "RQ_8_9_Total_Exp_PChg           6 non-null float64\n",
      "RQ_8_9_Ebit_PChg                6 non-null float64\n",
      "RQ_8_9_Ebitda_PChg              6 non-null float64\n",
      "RQ_8_9_Close_PChg               5 non-null float64\n",
      "dtypes: float64(48)\n",
      "memory usage: 584.6+ KB\n"
     ]
    }
   ],
   "source": [
    "QSheet.info()"
   ]
  },
  {
   "cell_type": "code",
   "execution_count": 75,
   "metadata": {},
   "outputs": [],
   "source": [
    "QSheet = QSheet.dropna()"
   ]
  },
  {
   "cell_type": "code",
   "execution_count": 76,
   "metadata": {},
   "outputs": [
    {
     "name": "stdout",
     "output_type": "stream",
     "text": [
      "<class 'pandas.core.frame.DataFrame'>\n",
      "Index: 0 entries\n",
      "Data columns (total 48 columns):\n",
      "RQ_1_2_PAT_PChg                 0 non-null float64\n",
      "RQ_1_2_Operating_Profit_PChg    0 non-null float64\n",
      "RQ_1_2_Total_Exp_PChg           0 non-null float64\n",
      "RQ_1_2_Ebit_PChg                0 non-null float64\n",
      "RQ_1_2_Ebitda_PChg              0 non-null float64\n",
      "RQ_1_2_Close_PChg               0 non-null float64\n",
      "RQ_2_3_PAT_PChg                 0 non-null float64\n",
      "RQ_2_3_Operating_Profit_PChg    0 non-null float64\n",
      "RQ_2_3_Total_Exp_PChg           0 non-null float64\n",
      "RQ_2_3_Ebit_PChg                0 non-null float64\n",
      "RQ_2_3_Ebitda_PChg              0 non-null float64\n",
      "RQ_2_3_Close_PChg               0 non-null float64\n",
      "RQ_3_4_PAT_PChg                 0 non-null float64\n",
      "RQ_3_4_Operating_Profit_PChg    0 non-null float64\n",
      "RQ_3_4_Total_Exp_PChg           0 non-null float64\n",
      "RQ_3_4_Ebit_PChg                0 non-null float64\n",
      "RQ_3_4_Ebitda_PChg              0 non-null float64\n",
      "RQ_3_4_Close_PChg               0 non-null float64\n",
      "RQ_4_5_PAT_PChg                 0 non-null float64\n",
      "RQ_4_5_Operating_Profit_PChg    0 non-null float64\n",
      "RQ_4_5_Total_Exp_PChg           0 non-null float64\n",
      "RQ_4_5_Ebit_PChg                0 non-null float64\n",
      "RQ_4_5_Ebitda_PChg              0 non-null float64\n",
      "RQ_4_5_Close_PChg               0 non-null float64\n",
      "RQ_5_6_PAT_PChg                 0 non-null float64\n",
      "RQ_5_6_Operating_Profit_PChg    0 non-null float64\n",
      "RQ_5_6_Total_Exp_PChg           0 non-null float64\n",
      "RQ_5_6_Ebit_PChg                0 non-null float64\n",
      "RQ_5_6_Ebitda_PChg              0 non-null float64\n",
      "RQ_5_6_Close_PChg               0 non-null float64\n",
      "RQ_6_7_PAT_PChg                 0 non-null float64\n",
      "RQ_6_7_Operating_Profit_PChg    0 non-null float64\n",
      "RQ_6_7_Total_Exp_PChg           0 non-null float64\n",
      "RQ_6_7_Ebit_PChg                0 non-null float64\n",
      "RQ_6_7_Ebitda_PChg              0 non-null float64\n",
      "RQ_6_7_Close_PChg               0 non-null float64\n",
      "RQ_7_8_PAT_PChg                 0 non-null float64\n",
      "RQ_7_8_Operating_Profit_PChg    0 non-null float64\n",
      "RQ_7_8_Total_Exp_PChg           0 non-null float64\n",
      "RQ_7_8_Ebit_PChg                0 non-null float64\n",
      "RQ_7_8_Ebitda_PChg              0 non-null float64\n",
      "RQ_7_8_Close_PChg               0 non-null float64\n",
      "RQ_8_9_PAT_PChg                 0 non-null float64\n",
      "RQ_8_9_Operating_Profit_PChg    0 non-null float64\n",
      "RQ_8_9_Total_Exp_PChg           0 non-null float64\n",
      "RQ_8_9_Ebit_PChg                0 non-null float64\n",
      "RQ_8_9_Ebitda_PChg              0 non-null float64\n",
      "RQ_8_9_Close_PChg               0 non-null float64\n",
      "dtypes: float64(48)\n",
      "memory usage: 0.0+ bytes\n"
     ]
    }
   ],
   "source": [
    "QSheet.info()"
   ]
  },
  {
   "cell_type": "code",
   "execution_count": null,
   "metadata": {},
   "outputs": [],
   "source": [
    "print (QSheet)"
   ]
  },
  {
   "cell_type": "code",
   "execution_count": 53,
   "metadata": {},
   "outputs": [
    {
     "data": {
      "text/html": [
       "<div>\n",
       "<style scoped>\n",
       "    .dataframe tbody tr th:only-of-type {\n",
       "        vertical-align: middle;\n",
       "    }\n",
       "\n",
       "    .dataframe tbody tr th {\n",
       "        vertical-align: top;\n",
       "    }\n",
       "\n",
       "    .dataframe thead th {\n",
       "        text-align: right;\n",
       "    }\n",
       "</style>\n",
       "<table border=\"1\" class=\"dataframe\">\n",
       "  <thead>\n",
       "    <tr style=\"text-align: right;\">\n",
       "      <th></th>\n",
       "      <th>RQ_1_2_Total_Exp_PChg</th>\n",
       "      <th>RQ_1_2_Close_PChg</th>\n",
       "      <th>RQ_2_3_Total_Exp_PChg</th>\n",
       "      <th>RQ_2_3_Close_PChg</th>\n",
       "      <th>RQ_3_4_Total_Exp_PChg</th>\n",
       "      <th>RQ_3_4_Close_PChg</th>\n",
       "      <th>RQ_4_5_Total_Exp_PChg</th>\n",
       "      <th>RQ_4_5_Close_PChg</th>\n",
       "    </tr>\n",
       "  </thead>\n",
       "  <tbody>\n",
       "    <tr>\n",
       "      <th>ELAND</th>\n",
       "      <td>3.879991</td>\n",
       "      <td>-31.623932</td>\n",
       "      <td>-5.700915</td>\n",
       "      <td>-50.212766</td>\n",
       "      <td>-22.143094</td>\n",
       "      <td>45.061728</td>\n",
       "      <td>16.249519</td>\n",
       "      <td>-24.299065</td>\n",
       "    </tr>\n",
       "    <tr>\n",
       "      <th>ERIS</th>\n",
       "      <td>16.823886</td>\n",
       "      <td>-14.341982</td>\n",
       "      <td>18.370716</td>\n",
       "      <td>0.679801</td>\n",
       "      <td>-18.681405</td>\n",
       "      <td>37.728652</td>\n",
       "      <td>35.934314</td>\n",
       "      <td>-4.082821</td>\n",
       "    </tr>\n",
       "    <tr>\n",
       "      <th>GEECEE</th>\n",
       "      <td>-83.399734</td>\n",
       "      <td>9.589598</td>\n",
       "      <td>333.035144</td>\n",
       "      <td>-28.542393</td>\n",
       "      <td>39.982111</td>\n",
       "      <td>23.795830</td>\n",
       "      <td>-80.908470</td>\n",
       "      <td>10.265557</td>\n",
       "    </tr>\n",
       "    <tr>\n",
       "      <th>GESHIP</th>\n",
       "      <td>63.594634</td>\n",
       "      <td>-14.627498</td>\n",
       "      <td>4.203856</td>\n",
       "      <td>-17.315638</td>\n",
       "      <td>30.992830</td>\n",
       "      <td>3.485359</td>\n",
       "      <td>-1.124098</td>\n",
       "      <td>-5.020921</td>\n",
       "    </tr>\n",
       "    <tr>\n",
       "      <th>ITDCEM</th>\n",
       "      <td>-15.141158</td>\n",
       "      <td>-19.809221</td>\n",
       "      <td>15.215057</td>\n",
       "      <td>-27.850424</td>\n",
       "      <td>10.967339</td>\n",
       "      <td>26.973493</td>\n",
       "      <td>-15.572219</td>\n",
       "      <td>1.119293</td>\n",
       "    </tr>\n",
       "    <tr>\n",
       "      <th>KDDL</th>\n",
       "      <td>13.802906</td>\n",
       "      <td>24.063065</td>\n",
       "      <td>10.621943</td>\n",
       "      <td>inf</td>\n",
       "      <td>-9.773014</td>\n",
       "      <td>-100.000000</td>\n",
       "      <td>20.197044</td>\n",
       "      <td>8.529566</td>\n",
       "    </tr>\n",
       "    <tr>\n",
       "      <th>MAANALU</th>\n",
       "      <td>-5.279940</td>\n",
       "      <td>-1.831325</td>\n",
       "      <td>6.897243</td>\n",
       "      <td>-26.522663</td>\n",
       "      <td>5.644990</td>\n",
       "      <td>49.181194</td>\n",
       "      <td>-29.273408</td>\n",
       "      <td>-44.713785</td>\n",
       "    </tr>\n",
       "    <tr>\n",
       "      <th>MEGH</th>\n",
       "      <td>1.155822</td>\n",
       "      <td>-2.611276</td>\n",
       "      <td>-1.119791</td>\n",
       "      <td>-20.892019</td>\n",
       "      <td>-9.920621</td>\n",
       "      <td>34.046570</td>\n",
       "      <td>10.325443</td>\n",
       "      <td>57.795432</td>\n",
       "    </tr>\n",
       "    <tr>\n",
       "      <th>MERCATOR</th>\n",
       "      <td>-43.224822</td>\n",
       "      <td>-42.257598</td>\n",
       "      <td>-9.501013</td>\n",
       "      <td>-12.420786</td>\n",
       "      <td>52.235459</td>\n",
       "      <td>6.191117</td>\n",
       "      <td>0.990800</td>\n",
       "      <td>-16.610550</td>\n",
       "    </tr>\n",
       "    <tr>\n",
       "      <th>MUKTAARTS</th>\n",
       "      <td>-16.350711</td>\n",
       "      <td>-29.212598</td>\n",
       "      <td>23.753666</td>\n",
       "      <td>-38.647343</td>\n",
       "      <td>-12.787724</td>\n",
       "      <td>12.991266</td>\n",
       "      <td>25.320513</td>\n",
       "      <td>-10.851582</td>\n",
       "    </tr>\n",
       "    <tr>\n",
       "      <th>NESTLEIND</th>\n",
       "      <td>-0.341198</td>\n",
       "      <td>19.583595</td>\n",
       "      <td>-0.367507</td>\n",
       "      <td>4.226327</td>\n",
       "      <td>7.146965</td>\n",
       "      <td>9.068108</td>\n",
       "      <td>-0.540571</td>\n",
       "      <td>7.120591</td>\n",
       "    </tr>\n",
       "    <tr>\n",
       "      <th>SOLARINDS</th>\n",
       "      <td>-3.768867</td>\n",
       "      <td>5.572973</td>\n",
       "      <td>24.685371</td>\n",
       "      <td>-9.456425</td>\n",
       "      <td>24.576881</td>\n",
       "      <td>30.360102</td>\n",
       "      <td>-17.895524</td>\n",
       "      <td>9.779907</td>\n",
       "    </tr>\n",
       "    <tr>\n",
       "      <th>SORILINFRA</th>\n",
       "      <td>-39.166667</td>\n",
       "      <td>-100.000000</td>\n",
       "      <td>24.634859</td>\n",
       "      <td>-38.959811</td>\n",
       "      <td>-18.856992</td>\n",
       "      <td>136.136956</td>\n",
       "      <td>36.288586</td>\n",
       "      <td>4.511863</td>\n",
       "    </tr>\n",
       "    <tr>\n",
       "      <th>SUPREMEIND</th>\n",
       "      <td>-2.069949</td>\n",
       "      <td>-5.217537</td>\n",
       "      <td>9.643829</td>\n",
       "      <td>-7.759753</td>\n",
       "      <td>18.534204</td>\n",
       "      <td>17.810339</td>\n",
       "      <td>-9.137582</td>\n",
       "      <td>-10.506597</td>\n",
       "    </tr>\n",
       "    <tr>\n",
       "      <th>UNIONBANK</th>\n",
       "      <td>-46.698246</td>\n",
       "      <td>-12.819149</td>\n",
       "      <td>48.498059</td>\n",
       "      <td>-34.857935</td>\n",
       "      <td>-2.572874</td>\n",
       "      <td>13.936044</td>\n",
       "      <td>55.968309</td>\n",
       "      <td>-14.077341</td>\n",
       "    </tr>\n",
       "  </tbody>\n",
       "</table>\n",
       "</div>"
      ],
      "text/plain": [
       "            RQ_1_2_Total_Exp_PChg  RQ_1_2_Close_PChg  RQ_2_3_Total_Exp_PChg  \\\n",
       "ELAND                    3.879991         -31.623932              -5.700915   \n",
       "ERIS                    16.823886         -14.341982              18.370716   \n",
       "GEECEE                 -83.399734           9.589598             333.035144   \n",
       "GESHIP                  63.594634         -14.627498               4.203856   \n",
       "ITDCEM                 -15.141158         -19.809221              15.215057   \n",
       "KDDL                    13.802906          24.063065              10.621943   \n",
       "MAANALU                 -5.279940          -1.831325               6.897243   \n",
       "MEGH                     1.155822          -2.611276              -1.119791   \n",
       "MERCATOR               -43.224822         -42.257598              -9.501013   \n",
       "MUKTAARTS              -16.350711         -29.212598              23.753666   \n",
       "NESTLEIND               -0.341198          19.583595              -0.367507   \n",
       "SOLARINDS               -3.768867           5.572973              24.685371   \n",
       "SORILINFRA             -39.166667        -100.000000              24.634859   \n",
       "SUPREMEIND              -2.069949          -5.217537               9.643829   \n",
       "UNIONBANK              -46.698246         -12.819149              48.498059   \n",
       "\n",
       "            RQ_2_3_Close_PChg  RQ_3_4_Total_Exp_PChg  RQ_3_4_Close_PChg  \\\n",
       "ELAND              -50.212766             -22.143094          45.061728   \n",
       "ERIS                 0.679801             -18.681405          37.728652   \n",
       "GEECEE             -28.542393              39.982111          23.795830   \n",
       "GESHIP             -17.315638              30.992830           3.485359   \n",
       "ITDCEM             -27.850424              10.967339          26.973493   \n",
       "KDDL                      inf              -9.773014        -100.000000   \n",
       "MAANALU            -26.522663               5.644990          49.181194   \n",
       "MEGH               -20.892019              -9.920621          34.046570   \n",
       "MERCATOR           -12.420786              52.235459           6.191117   \n",
       "MUKTAARTS          -38.647343             -12.787724          12.991266   \n",
       "NESTLEIND            4.226327               7.146965           9.068108   \n",
       "SOLARINDS           -9.456425              24.576881          30.360102   \n",
       "SORILINFRA         -38.959811             -18.856992         136.136956   \n",
       "SUPREMEIND          -7.759753              18.534204          17.810339   \n",
       "UNIONBANK          -34.857935              -2.572874          13.936044   \n",
       "\n",
       "            RQ_4_5_Total_Exp_PChg  RQ_4_5_Close_PChg  \n",
       "ELAND                   16.249519         -24.299065  \n",
       "ERIS                    35.934314          -4.082821  \n",
       "GEECEE                 -80.908470          10.265557  \n",
       "GESHIP                  -1.124098          -5.020921  \n",
       "ITDCEM                 -15.572219           1.119293  \n",
       "KDDL                    20.197044           8.529566  \n",
       "MAANALU                -29.273408         -44.713785  \n",
       "MEGH                    10.325443          57.795432  \n",
       "MERCATOR                 0.990800         -16.610550  \n",
       "MUKTAARTS               25.320513         -10.851582  \n",
       "NESTLEIND               -0.540571           7.120591  \n",
       "SOLARINDS              -17.895524           9.779907  \n",
       "SORILINFRA              36.288586           4.511863  \n",
       "SUPREMEIND              -9.137582         -10.506597  \n",
       "UNIONBANK               55.968309         -14.077341  "
      ]
     },
     "execution_count": 53,
     "metadata": {},
     "output_type": "execute_result"
    }
   ],
   "source": [
    "# QSheet.loc[['SUPREMEIND','ELAND']]\n",
    "QSheet.filter(regex='Exp*|Close*')"
   ]
  },
  {
   "cell_type": "code",
   "execution_count": 44,
   "metadata": {},
   "outputs": [],
   "source": [
    "PSheet1Corr = QSheet.filter(regex='RQ_1_2*').corr()\n"
   ]
  },
  {
   "cell_type": "code",
   "execution_count": 45,
   "metadata": {},
   "outputs": [
    {
     "data": {
      "text/plain": [
       "RQ_1_2_Ebitda_PChg              0.079531\n",
       "RQ_1_2_PAT_PChg                 0.090962\n",
       "RQ_1_2_Ebit_PChg                0.175237\n",
       "RQ_1_2_Operating_Profit_PChg    0.190234\n",
       "RQ_1_2_Total_Exp_PChg           0.218262\n",
       "RQ_1_2_Close_PChg               1.000000\n",
       "Name: RQ_1_2_Close_PChg, dtype: float64"
      ]
     },
     "execution_count": 45,
     "metadata": {},
     "output_type": "execute_result"
    }
   ],
   "source": [
    "PSheet1Corr['RQ_1_2_Close_PChg'].sort_values(ascending=True) "
   ]
  },
  {
   "cell_type": "code",
   "execution_count": 55,
   "metadata": {},
   "outputs": [
    {
     "data": {
      "text/plain": [
       "<matplotlib.axes._subplots.AxesSubplot at 0x1b22ae9b240>"
      ]
     },
     "execution_count": 55,
     "metadata": {},
     "output_type": "execute_result"
    },
    {
     "data": {
      "image/png": "[encoded data removed]",
      "text/plain": [
       "<Figure size 432x288 with 1 Axes>"
      ]
     },
     "metadata": {},
     "output_type": "display_data"
    }
   ],
   "source": [
    "%matplotlib inline\n",
    "import matplotlib.pyplot as plt\n",
    "QSheet.plot(kind='scatter', x='RQ_1_2_Ebitda_PChg', y='RQ_1_2_Close_PChg')"
   ]
  },
  {
   "cell_type": "code",
   "execution_count": 61,
   "metadata": {},
   "outputs": [],
   "source": [
    "PSheet1Corr = QSheet.filter(regex='RQ_1_2*').corr()"
   ]
  },
  {
   "cell_type": "code",
   "execution_count": 62,
   "metadata": {},
   "outputs": [
    {
     "data": {
      "text/plain": [
       "RQ_1_2_Ebit_PChg                0.029064\n",
       "RQ_1_2_PAT_PChg                 0.051437\n",
       "RQ_1_2_Total_Exp_PChg           0.103333\n",
       "RQ_1_2_Ebitda_PChg              0.117811\n",
       "RQ_1_2_Operating_Profit_PChg    0.128825\n",
       "RQ_1_2_Close_PChg               1.000000\n",
       "Name: RQ_1_2_Close_PChg, dtype: float64"
      ]
     },
     "execution_count": 62,
     "metadata": {},
     "output_type": "execute_result"
    }
   ],
   "source": [
    "PSheet1Corr['RQ_1_2_Close_PChg'].sort_values(ascending=True) "
   ]
  },
  {
   "cell_type": "code",
   "execution_count": 70,
   "metadata": {},
   "outputs": [
    {
     "data": {
      "text/plain": [
       "<matplotlib.axes._subplots.AxesSubplot at 0x1b22af9f748>"
      ]
     },
     "execution_count": 70,
     "metadata": {},
     "output_type": "execute_result"
    },
    {
     "data": {
      "image/png": "[encoded data removed]",
      "text/plain": [
       "<Figure size 432x288 with 1 Axes>"
      ]
     },
     "metadata": {},
     "output_type": "display_data"
    }
   ],
   "source": [
    "QSheet.plot(kind='scatter', x='RQ_1_2_Ebitda_PChg', y='RQ_1_2_Close_PChg')"
   ]
  },
  {
   "cell_type": "code",
   "execution_count": 69,
   "metadata": {},
   "outputs": [
    {
     "data": {
      "text/plain": [
       "RQ_1_2_Ebit_PChg                0.019132\n",
       "RQ_1_2_Total_Exp_PChg           0.043191\n",
       "RQ_1_2_PAT_PChg                 0.056157\n",
       "RQ_1_2_Operating_Profit_PChg    0.081883\n",
       "RQ_1_2_Ebitda_PChg              0.094395\n",
       "RQ_1_2_Close_PChg               1.000000\n",
       "Name: RQ_1_2_Close_PChg, dtype: float64"
      ]
     },
     "execution_count": 69,
     "metadata": {},
     "output_type": "execute_result"
    }
   ],
   "source": [
    "PSheet1Corr = QSheet.filter(regex='RQ_1_2*').corr()\n",
    "PSheet1Corr['RQ_1_2_Close_PChg'].sort_values(ascending=True) "
   ]
  },
  {
   "cell_type": "code",
   "execution_count": 71,
   "metadata": {},
   "outputs": [
    {
     "data": {
      "text/plain": [
       "<matplotlib.axes._subplots.AxesSubplot at 0x1b22afe2978>"
      ]
     },
     "execution_count": 71,
     "metadata": {},
     "output_type": "execute_result"
    },
    {
     "data": {
      "image/png": "[encoded data removed]",
      "text/plain": [
       "<Figure size 432x288 with 1 Axes>"
      ]
     },
     "metadata": {},
     "output_type": "display_data"
    }
   ],
   "source": [
    "QSheet.plot(kind='scatter', x='RQ_1_2_Ebitda_PChg', y='RQ_1_2_Close_PChg')"
   ]
  },
  {
   "cell_type": "code",
   "execution_count": null,
   "metadata": {},
   "outputs": [],
   "source": []
  }
 ],
 "metadata": {
  "kernelspec": {
   "display_name": "Python 3",
   "language": "python",
   "name": "python3"
  },
  "language_info": {
   "codemirror_mode": {
    "name": "ipython",
    "version": 3
   },
   "file_extension": ".py",
   "mimetype": "text/x-python",
   "name": "python",
   "nbconvert_exporter": "python",
   "pygments_lexer": "ipython3",
   "version": "3.6.5"
  }
 },
 "nbformat": 4,
 "nbformat_minor": 2
}
