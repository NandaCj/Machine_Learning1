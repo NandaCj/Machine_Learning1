{
 "cells": [
  {
   "cell_type": "code",
   "execution_count": 1,
   "metadata": {},
   "outputs": [
    {
     "name": "stdout",
     "output_type": "stream",
     "text": [
      "C:\\Users\\nandpara\\PycharmProjects\\Machine_Learning1\\Stock_AnalysisQly_Details1.csv\n"
     ]
    },
    {
     "name": "stderr",
     "output_type": "stream",
     "text": [
      "c:\\users\\nandpara\\appdata\\local\\programs\\python\\python36\\lib\\site-packages\\ipykernel_launcher.py:6: FutureWarning: from_csv is deprecated. Please use read_csv(...) instead. Note that some of the default arguments are different, so please refer to the documentation for from_csv when changing your function calls\n",
      "  \n"
     ]
    }
   ],
   "source": [
    "import pandas as pd\n",
    "import os\n",
    "file_name = \"Stock_AnalysisQly_Details1.csv\"\n",
    "CSV_FILE = os.path.join(os.path.dirname(os.getcwd()), file_name)\n",
    "print(CSV_FILE)\n",
    "QSheet = pd.DataFrame.from_csv(CSV_FILE)"
   ]
  },
  {
   "cell_type": "markdown",
   "metadata": {},
   "source": [
    "# Declarations"
   ]
  },
  {
   "cell_type": "code",
   "execution_count": 2,
   "metadata": {},
   "outputs": [],
   "source": [
    "Stock_Feature = ['RQ_1_2_PAT_PChg','RQ_1_2_Operating_Profit_PChg','RQ_1_2_Total_Exp_PChg','RQ_1_2_Ebit_PChg','RQ_1_2_Ebitda_PChg']\n",
    "Stock_value = ['RQ_1_2_Close_PChg']\n",
    "OP = 'RQ_1_2_Operating_Profit_PChg'\n",
    "PAT = 'RQ_1_2_PAT_PChg'\n",
    "Close = 'RQ_1_2_Close_PChg'"
   ]
  },
  {
   "cell_type": "markdown",
   "metadata": {},
   "source": [
    "# Preprocessing"
   ]
  },
  {
   "cell_type": "code",
   "execution_count": 8,
   "metadata": {},
   "outputs": [],
   "source": [
    "from sklearn.preprocessing import Imputer\n",
    "import numpy as np\n",
    "imputer = Imputer(strategy=\"median\")\n",
    "imputer.fit(QSheet)\n",
    "imputer.statistics_\n",
    "X = imputer.transform(QSheet)\n",
    "NQSheet = pd.DataFrame(X, index=QSheet.index,columns=QSheet.columns)\n",
    "#imputer now fills only the NaN values , inf value is still untreated....\n",
    "NQSheet = NQSheet.replace(to_replace=[np.inf, -np.inf], value=0)"
   ]
  },
  {
   "cell_type": "markdown",
   "metadata": {},
   "source": [
    "# Decision Tree - Generally no Scaling is required\n",
    "\n",
    "# Removing Ouliers , \n",
    " ## 1. Remove 5 % from Top and 5% from Bottom"
   ]
  },
  {
   "cell_type": "code",
   "execution_count": 9,
   "metadata": {},
   "outputs": [
    {
     "data": {
      "text/plain": [
       "726"
      ]
     },
     "execution_count": 9,
     "metadata": {},
     "output_type": "execute_result"
    }
   ],
   "source": [
    "FivePercent = int(len(QSheet)*0.2)\n",
    "OP_Top_Outliers = NQSheet[OP].sort_values()[:FivePercent].index\n",
    "OP_Bottom_Outliers = NQSheet[OP].sort_values()[-FivePercent:].index\n",
    "PAT_Top_Outliers = NQSheet[PAT].sort_values()[:FivePercent].index\n",
    "PAT_Bottom_Outliers = NQSheet[PAT].sort_values()[-FivePercent:].index\n",
    "Outliers = set(list(OP_Top_Outliers) + list(OP_Bottom_Outliers) + list(PAT_Top_Outliers) + list(PAT_Bottom_Outliers))\n",
    "NQSheet_No_Outliers = NQSheet.drop(Outliers)\n",
    "len(NQSheet_No_Outliers)"
   ]
  },
  {
   "cell_type": "code",
   "execution_count": 13,
   "metadata": {},
   "outputs": [
    {
     "name": "stdout",
     "output_type": "stream",
     "text": [
      "            RQ_1_2_PAT_PChg  RQ_1_2_Operating_Profit_PChg  \\\n",
      "KDDL              -1.790281                      7.635830   \n",
      "ERIS              21.913043                     16.488846   \n",
      "SORILINFRA       -62.323561                    -57.412399   \n",
      "SOLARINDS         17.022809                     10.649351   \n",
      "GEECEE           -55.863708                    -35.070306   \n",
      "\n",
      "            RQ_1_2_Total_Exp_PChg  RQ_1_2_Ebit_PChg  RQ_1_2_Ebitda_PChg  \n",
      "KDDL                    13.802906         12.357724           10.401003  \n",
      "ERIS                    16.823886         13.622590           10.215254  \n",
      "SORILINFRA             -39.166667        -59.382819          -43.411840  \n",
      "SOLARINDS               -3.768867         13.764706           12.638759  \n",
      "GEECEE                 -83.399734        -34.318555          -33.386581  \n",
      "            RQ_1_2_Close_PChg\n",
      "KDDL                24.063065\n",
      "ERIS               -14.341982\n",
      "SORILINFRA        -100.000000\n",
      "SOLARINDS            5.572973\n",
      "GEECEE               9.589598\n"
     ]
    },
    {
     "data": {
      "text/plain": [
       "1.0"
      ]
     },
     "execution_count": 13,
     "metadata": {},
     "output_type": "execute_result"
    }
   ],
   "source": [
    "train_Feature = NQSheet_No_Outliers[Stock_Feature][:5]\n",
    "train_Value = NQSheet_No_Outliers[Stock_value][:5]\n",
    "\n",
    "print(train_Feature)\n",
    "print(train_Value)\n",
    "\n",
    "from sklearn.tree import DecisionTreeRegressor\n",
    "TreeReg = DecisionTreeRegressor()\n",
    "TreeReg.fit(train_Feature, train_Value)\n",
    "TreeReg.score(train_Feature, train_Value)"
   ]
  },
  {
   "cell_type": "code",
   "execution_count": 12,
   "metadata": {},
   "outputs": [],
   "source": [
    "from sklearn.tree import export_graphviz\n",
    "export_graphviz(TreeReg, out_file='sample_decision_tree.dot', feature_names=Stock_Feature, class_names='Close_Price', rounded=True,filled=True)"
   ]
  },
  {
   "cell_type": "code",
   "execution_count": null,
   "metadata": {},
   "outputs": [],
   "source": []
  }
 ],
 "metadata": {
  "kernelspec": {
   "display_name": "Python 3",
   "language": "python",
   "name": "python3"
  },
  "language_info": {
   "codemirror_mode": {
    "name": "ipython",
    "version": 3
   },
   "file_extension": ".py",
   "mimetype": "text/x-python",
   "name": "python",
   "nbconvert_exporter": "python",
   "pygments_lexer": "ipython3",
   "version": "3.6.5"
  }
 },
 "nbformat": 4,
 "nbformat_minor": 2
}
