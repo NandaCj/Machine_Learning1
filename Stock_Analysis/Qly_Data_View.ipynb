{
 "cells": [
  {
   "cell_type": "code",
   "execution_count": 186,
   "metadata": {
    "collapsed": false
   },
   "outputs": [
    {
     "name": "stdout",
     "output_type": "stream",
     "text": [
      "C:\\Users\\nandpara\\PycharmProjects\\Machine_Learning1\\Stock_AnalysisQly_Details1.csv\n"
     ]
    }
   ],
   "source": [
    "import pandas as pd\n",
    "import os\n",
    "file_name = \"Stock_AnalysisQly_Details1.csv\"\n",
    "CSV_FILE = os.path.join(os.path.dirname(os.getcwd()), file_name)\n",
    "print(CSV_FILE)"
   ]
  },
  {
   "cell_type": "code",
   "execution_count": 187,
   "metadata": {
    "collapsed": false
   },
   "outputs": [
    {
     "name": "stderr",
     "output_type": "stream",
     "text": [
      "c:\\users\\nandpara\\appdata\\local\\programs\\python\\python36\\lib\\site-packages\\ipykernel_launcher.py:1: FutureWarning: from_csv is deprecated. Please use read_csv(...) instead. Note that some of the default arguments are different, so please refer to the documentation for from_csv when changing your function calls\n",
      "  \"\"\"Entry point for launching an IPython kernel.\n"
     ]
    }
   ],
   "source": [
    "QSheet = pd.DataFrame.from_csv(CSV_FILE)"
   ]
  },
  {
   "cell_type": "code",
   "execution_count": 188,
   "metadata": {
    "collapsed": true
   },
   "outputs": [
    {
     "name": "stdout",
     "output_type": "stream",
     "text": [
      "<class 'pandas.core.frame.DataFrame'>\n",
      "Index: 1527 entries, ELAND to ASIANTILES\n",
      "Data columns (total 24 columns):\n",
      "RQ_1_2_PAT_PChg                 1527 non-null float64\n",
      "RQ_1_2_Operating_Profit_PChg    1527 non-null float64\n",
      "RQ_1_2_Total_Exp_PChg           1527 non-null float64\n",
      "RQ_1_2_Ebit_PChg                1527 non-null float64\n",
      "RQ_1_2_Ebitda_PChg              1527 non-null float64\n",
      "RQ_1_2_Close_PChg               1451 non-null float64\n",
      "RQ_2_3_PAT_PChg                 1527 non-null float64\n",
      "RQ_2_3_Operating_Profit_PChg    1527 non-null float64\n",
      "RQ_2_3_Total_Exp_PChg           1527 non-null float64\n",
      "RQ_2_3_Ebit_PChg                1527 non-null float64\n",
      "RQ_2_3_Ebitda_PChg              1527 non-null float64\n",
      "RQ_2_3_Close_PChg               1455 non-null float64\n",
      "RQ_3_4_PAT_PChg                 1527 non-null float64\n",
      "RQ_3_4_Operating_Profit_PChg    1527 non-null float64\n",
      "RQ_3_4_Total_Exp_PChg           1527 non-null float64\n",
      "RQ_3_4_Ebit_PChg                1527 non-null float64\n",
      "RQ_3_4_Ebitda_PChg              1527 non-null float64\n",
      "RQ_3_4_Close_PChg               1465 non-null float64\n",
      "RQ_4_5_PAT_PChg                 1526 non-null float64\n",
      "RQ_4_5_Operating_Profit_PChg    1526 non-null float64\n",
      "RQ_4_5_Total_Exp_PChg           1526 non-null float64\n",
      "RQ_4_5_Ebit_PChg                1526 non-null float64\n",
      "RQ_4_5_Ebitda_PChg              1526 non-null float64\n",
      "RQ_4_5_Close_PChg               1445 non-null float64\n",
      "dtypes: float64(24)\n",
      "memory usage: 298.2+ KB\n"
     ]
    },
    {
     "data": {
      "text/plain": [
       "RQ_4_5_Close_PChg               1445\n",
       "RQ_1_2_Close_PChg               1451\n",
       "RQ_2_3_Close_PChg               1455\n",
       "RQ_3_4_Close_PChg               1465\n",
       "RQ_4_5_Ebit_PChg                1526\n",
       "RQ_4_5_Total_Exp_PChg           1526\n",
       "RQ_4_5_Operating_Profit_PChg    1526\n",
       "RQ_4_5_PAT_PChg                 1526\n",
       "RQ_4_5_Ebitda_PChg              1526\n",
       "RQ_1_2_Ebit_PChg                1527\n",
       "RQ_3_4_Ebitda_PChg              1527\n",
       "RQ_3_4_Ebit_PChg                1527\n",
       "RQ_3_4_Total_Exp_PChg           1527\n",
       "RQ_3_4_Operating_Profit_PChg    1527\n",
       "RQ_3_4_PAT_PChg                 1527\n",
       "RQ_2_3_Ebitda_PChg              1527\n",
       "RQ_2_3_Ebit_PChg                1527\n",
       "RQ_2_3_Total_Exp_PChg           1527\n",
       "RQ_2_3_Operating_Profit_PChg    1527\n",
       "RQ_2_3_PAT_PChg                 1527\n",
       "RQ_1_2_Operating_Profit_PChg    1527\n",
       "RQ_1_2_Ebitda_PChg              1527\n",
       "RQ_1_2_Total_Exp_PChg           1527\n",
       "RQ_1_2_PAT_PChg                 1527\n",
       "dtype: int64"
      ]
     },
     "execution_count": 188,
     "metadata": {},
     "output_type": "execute_result"
    }
   ],
   "source": [
    "QSheet.info() ; QSheet.count().sort_values() "
   ]
  },
  {
   "cell_type": "code",
   "execution_count": 189,
   "metadata": {
    "collapsed": true
   },
   "outputs": [
    {
     "data": {
      "text/plain": [
       "RQ_1_2_PAT_PChg                 False\n",
       "RQ_3_4_Ebit_PChg                False\n",
       "RQ_3_4_Total_Exp_PChg           False\n",
       "RQ_3_4_Operating_Profit_PChg    False\n",
       "RQ_3_4_PAT_PChg                 False\n",
       "RQ_2_3_Ebitda_PChg              False\n",
       "RQ_2_3_Ebit_PChg                False\n",
       "RQ_3_4_Ebitda_PChg              False\n",
       "RQ_2_3_Total_Exp_PChg           False\n",
       "RQ_2_3_PAT_PChg                 False\n",
       "RQ_1_2_Ebitda_PChg              False\n",
       "RQ_1_2_Ebit_PChg                False\n",
       "RQ_1_2_Total_Exp_PChg           False\n",
       "RQ_1_2_Operating_Profit_PChg    False\n",
       "RQ_2_3_Operating_Profit_PChg    False\n",
       "RQ_4_5_Ebit_PChg                 True\n",
       "RQ_4_5_Total_Exp_PChg            True\n",
       "RQ_4_5_Operating_Profit_PChg     True\n",
       "RQ_2_3_Close_PChg                True\n",
       "RQ_3_4_Close_PChg                True\n",
       "RQ_4_5_Ebitda_PChg               True\n",
       "RQ_1_2_Close_PChg                True\n",
       "RQ_4_5_PAT_PChg                  True\n",
       "RQ_4_5_Close_PChg                True\n",
       "dtype: bool"
      ]
     },
     "execution_count": 189,
     "metadata": {},
     "output_type": "execute_result"
    }
   ],
   "source": [
    "QSheet.isnull().any().sort_values()"
   ]
  },
  {
   "cell_type": "code",
   "execution_count": 190,
   "metadata": {
    "collapsed": true
   },
   "outputs": [
    {
     "data": {
      "text/plain": [
       "Index(['ELAND', 'KDDL', 'ERIS', 'UNIONBANK', 'MAANALU', 'SORILINFRA', 'ESTER',\n",
       "       'SOLARINDS', 'GESHIP', 'MEGH',\n",
       "       ...\n",
       "       'SANDESH', 'ADANIENT', 'DIAPOWER', 'CANDC', 'TIJARIA', 'BLUECOAST',\n",
       "       'BALAXI', 'NRAIL', 'ICICIPRULI', 'ASIANTILES'],\n",
       "      dtype='object', length=1527)"
      ]
     },
     "execution_count": 190,
     "metadata": {},
     "output_type": "execute_result"
    }
   ],
   "source": [
    "# Find the rows that has any Null values\n",
    "QSheet[QSheet.isnull()].index"
   ]
  },
  {
   "cell_type": "code",
   "execution_count": 191,
   "metadata": {
    "collapsed": true
   },
   "outputs": [
    {
     "data": {
      "text/plain": [
       "Index(['YESBANK'], dtype='object')"
      ]
     },
     "execution_count": 191,
     "metadata": {},
     "output_type": "execute_result"
    }
   ],
   "source": [
    "# Find the rows that has any Null values\n",
    "QSheet[QSheet['RQ_4_5_Ebitda_PChg'].isnull()].index"
   ]
  },
  {
   "cell_type": "code",
   "execution_count": 192,
   "metadata": {
    "collapsed": true
   },
   "outputs": [
    {
     "data": {
      "text/plain": [
       "76"
      ]
     },
     "execution_count": 192,
     "metadata": {},
     "output_type": "execute_result"
    }
   ],
   "source": [
    "len(QSheet[QSheet['RQ_1_2_Close_PChg'].isnull()].index)"
   ]
  },
  {
   "cell_type": "code",
   "execution_count": 193,
   "metadata": {
    "collapsed": true
   },
   "outputs": [
    {
     "data": {
      "text/plain": [
       "72"
      ]
     },
     "execution_count": 193,
     "metadata": {},
     "output_type": "execute_result"
    }
   ],
   "source": [
    "len(QSheet[QSheet['RQ_2_3_Close_PChg'].isnull()].index)"
   ]
  },
  {
   "cell_type": "code",
   "execution_count": 194,
   "metadata": {
    "collapsed": true
   },
   "outputs": [
    {
     "data": {
      "text/plain": [
       "62"
      ]
     },
     "execution_count": 194,
     "metadata": {},
     "output_type": "execute_result"
    }
   ],
   "source": [
    "len(QSheet[QSheet['RQ_3_4_Close_PChg'].isnull()].index)"
   ]
  },
  {
   "cell_type": "code",
   "execution_count": 195,
   "metadata": {
    "collapsed": true
   },
   "outputs": [
    {
     "data": {
      "text/plain": [
       "82"
      ]
     },
     "execution_count": 195,
     "metadata": {},
     "output_type": "execute_result"
    }
   ],
   "source": [
    "len(QSheet[QSheet['RQ_4_5_Close_PChg'].isnull()].index)"
   ]
  },
  {
   "cell_type": "code",
   "execution_count": 196,
   "metadata": {},
   "outputs": [],
   "source": [
    "from sklearn.preprocessing import Imputer\n",
    "imputer = Imputer(strategy=\"median\")"
   ]
  },
  {
   "cell_type": "code",
   "execution_count": 197,
   "metadata": {},
   "outputs": [
    {
     "data": {
      "text/plain": [
       "Imputer(axis=0, copy=True, missing_values='NaN', strategy='median', verbose=0)"
      ]
     },
     "execution_count": 197,
     "metadata": {},
     "output_type": "execute_result"
    }
   ],
   "source": [
    "imputer.fit(QSheet)"
   ]
  },
  {
   "cell_type": "code",
   "execution_count": 215,
   "metadata": {
    "collapsed": true
   },
   "outputs": [
    {
     "data": {
      "text/plain": [
       "array([-12.18130312,  -5.84070796,   0.28346635,  -4.96823587,\n",
       "        -5.37074148, -11.66477916,  -0.0450761 ,   0.84674005,\n",
       "         7.58975853,   2.54653107,   1.84491979, -11.81855849,\n",
       "        -0.64909047,  -0.16295492,   3.442291  ,  -0.29973773,\n",
       "        -0.23474178,  10.99685205,   1.18194631,   1.30893593,\n",
       "         0.55381127,   2.90868368,   2.70758123,  -0.02918673])"
      ]
     },
     "execution_count": 215,
     "metadata": {},
     "output_type": "execute_result"
    }
   ],
   "source": [
    "imputer.statistics_"
   ]
  },
  {
   "cell_type": "code",
   "execution_count": 214,
   "metadata": {
    "collapsed": true
   },
   "outputs": [
    {
     "data": {
      "text/plain": [
       "RQ_1_2_PAT_PChg                  6.860883\n",
       "RQ_1_2_Operating_Profit_PChg    15.121069\n",
       "RQ_1_2_Total_Exp_PChg           13.308543\n",
       "RQ_1_2_Ebit_PChg                19.032279\n",
       "RQ_1_2_Ebitda_PChg              16.216079\n",
       "RQ_1_2_Close_PChg               11.415450\n",
       "RQ_2_3_PAT_PChg                  9.524827\n",
       "RQ_2_3_Operating_Profit_PChg    16.882502\n",
       "RQ_2_3_Total_Exp_PChg            6.289835\n",
       "RQ_2_3_Ebit_PChg                10.434645\n",
       "RQ_2_3_Ebitda_PChg              11.813129\n",
       "RQ_2_3_Close_PChg               -3.268285\n",
       "RQ_3_4_PAT_PChg                  7.393815\n",
       "RQ_3_4_Operating_Profit_PChg     6.822820\n",
       "RQ_3_4_Total_Exp_PChg            3.384272\n",
       "RQ_3_4_Ebit_PChg                 7.494732\n",
       "RQ_3_4_Ebitda_PChg               8.848969\n",
       "RQ_3_4_Close_PChg               -9.957143\n",
       "RQ_4_5_PAT_PChg                       NaN\n",
       "RQ_4_5_Operating_Profit_PChg          NaN\n",
       "RQ_4_5_Total_Exp_PChg                 NaN\n",
       "RQ_4_5_Ebit_PChg                      NaN\n",
       "RQ_4_5_Ebitda_PChg                    NaN\n",
       "RQ_4_5_Close_PChg                     NaN\n",
       "Name: YESBANK, dtype: float64"
      ]
     },
     "execution_count": 214,
     "metadata": {},
     "output_type": "execute_result"
    }
   ],
   "source": [
    "QSheet.loc['YESBANK']"
   ]
  },
  {
   "cell_type": "code",
   "execution_count": 320,
   "metadata": {},
   "outputs": [],
   "source": [
    "X = imputer.transform(QSheet)\n",
    "NQSheet = pd.DataFrame(X, index=QSheet.index,columns=QSheet.columns)\n",
    "import numpy as np\n",
    "NQSheet['R_1_2_Pat_Chg_Cat'] = np.ceil(NQSheet['RQ_1_2_PAT_PChg']/25)"
   ]
  },
  {
   "cell_type": "code",
   "execution_count": 315,
   "metadata": {
    "collapsed": true
   },
   "outputs": [
    {
     "data": {
      "text/plain": [
       "ELAND         -2.0\n",
       "KDDL          -0.0\n",
       "ERIS           1.0\n",
       "UNIONBANK     -4.0\n",
       "MAANALU        6.0\n",
       "SORILINFRA    -2.0\n",
       "ESTER         43.0\n",
       "SOLARINDS      1.0\n",
       "GESHIP        66.0\n",
       "MEGH          25.0\n",
       "Name: R_1_2_Pat_Chg_Cat, dtype: float64"
      ]
     },
     "execution_count": 315,
     "metadata": {},
     "output_type": "execute_result"
    }
   ],
   "source": [
    "NQSheet['R_1_2_Pat_Chg_Cat'][:10]"
   ]
  },
  {
   "cell_type": "code",
   "execution_count": 321,
   "metadata": {},
   "outputs": [],
   "source": [
    "NQSheet['R_1_2_Pat_Chg_Cat'].where(NQSheet['R_1_2_Pat_Chg_Cat'] < 50, 50, inplace = True)"
   ]
  },
  {
   "cell_type": "code",
   "execution_count": 317,
   "metadata": {
    "collapsed": true
   },
   "outputs": [
    {
     "data": {
      "text/plain": [
       "RQ_1_2_PAT_PChg                 15\n",
       "RQ_1_2_Operating_Profit_PChg    15\n",
       "RQ_1_2_Total_Exp_PChg           15\n",
       "RQ_1_2_Ebit_PChg                15\n",
       "RQ_1_2_Ebitda_PChg              15\n",
       "RQ_1_2_Close_PChg               15\n",
       "RQ_2_3_PAT_PChg                 15\n",
       "RQ_2_3_Operating_Profit_PChg    15\n",
       "RQ_2_3_Total_Exp_PChg           15\n",
       "RQ_2_3_Ebit_PChg                15\n",
       "RQ_2_3_Ebitda_PChg              15\n",
       "RQ_2_3_Close_PChg               15\n",
       "RQ_3_4_PAT_PChg                 15\n",
       "RQ_3_4_Operating_Profit_PChg    15\n",
       "RQ_3_4_Total_Exp_PChg           15\n",
       "RQ_3_4_Ebit_PChg                15\n",
       "RQ_3_4_Ebitda_PChg              15\n",
       "RQ_3_4_Close_PChg               15\n",
       "RQ_4_5_PAT_PChg                 15\n",
       "RQ_4_5_Operating_Profit_PChg    15\n",
       "RQ_4_5_Total_Exp_PChg           15\n",
       "RQ_4_5_Ebit_PChg                15\n",
       "RQ_4_5_Ebitda_PChg              15\n",
       "RQ_4_5_Close_PChg               15\n",
       "R_1_2_Pat_Chg_Cat               15\n",
       "dtype: int64"
      ]
     },
     "execution_count": 317,
     "metadata": {},
     "output_type": "execute_result"
    }
   ],
   "source": [
    "NQSheet[NQSheet['R_1_2_Pat_Chg_Cat'] < -100].count()"
   ]
  },
  {
   "cell_type": "code",
   "execution_count": 322,
   "metadata": {},
   "outputs": [],
   "source": [
    "NQSheet['R_1_2_Pat_Chg_Cat'].where(NQSheet['R_1_2_Pat_Chg_Cat'] > -50, -50, inplace = True)"
   ]
  },
  {
   "cell_type": "code",
   "execution_count": 306,
   "metadata": {
    "collapsed": true
   },
   "outputs": [
    {
     "data": {
      "text/plain": [
       " 1.0      121\n",
       "-0.0      116\n",
       "-1.0       90\n",
       "-2.0       82\n",
       "-4.0       80\n",
       "-3.0       72\n",
       " 2.0       69\n",
       " 3.0       55\n",
       "-6.0       51\n",
       "-5.0       51\n",
       "-9.0       45\n",
       "-8.0       42\n",
       "-7.0       41\n",
       " 4.0       38\n",
       "-10.0      36\n",
       " 100.0     35\n",
       " 5.0       33\n",
       "-100.0     33\n",
       " 6.0       24\n",
       "-12.0      21\n",
       " 10.0      18\n",
       " 9.0       17\n",
       " 7.0       16\n",
       "-11.0      16\n",
       " 8.0       16\n",
       "-13.0      13\n",
       " 16.0      12\n",
       " 11.0      10\n",
       "-14.0      10\n",
       " 12.0       9\n",
       "         ... \n",
       " 65.0       1\n",
       "-85.0       1\n",
       " 75.0       1\n",
       " 89.0       1\n",
       "-45.0       1\n",
       "-31.0       1\n",
       "-59.0       1\n",
       "-50.0       1\n",
       "-76.0       1\n",
       " 66.0       1\n",
       "-58.0       1\n",
       "-51.0       1\n",
       " 42.0       1\n",
       "-57.0       1\n",
       " 74.0       1\n",
       "-72.0       1\n",
       " 80.0       1\n",
       " 78.0       1\n",
       "-64.0       1\n",
       " 48.0       1\n",
       "-36.0       1\n",
       "-42.0       1\n",
       "-56.0       1\n",
       " 41.0       1\n",
       " 31.0       1\n",
       " 51.0       1\n",
       " 57.0       1\n",
       " 56.0       1\n",
       "-47.0       1\n",
       " 90.0       1\n",
       "Name: R_1_2_Pat_Chg_Cat, Length: 132, dtype: int64"
      ]
     },
     "execution_count": 306,
     "metadata": {},
     "output_type": "execute_result"
    }
   ],
   "source": [
    "NQSheet['R_1_2_Pat_Chg_Cat'].value_counts()"
   ]
  },
  {
   "cell_type": "code",
   "execution_count": 324,
   "metadata": {},
   "outputs": [
    {
     "data": {
      "text/plain": [
       "<matplotlib.axes._subplots.AxesSubplot at 0x1b22cf996a0>"
      ]
     },
     "execution_count": 324,
     "metadata": {},
     "output_type": "execute_result"
    },
    {
     "data": {
      "image/png": "[encoded data removed]",
      "text/plain": [
       "<Figure size 432x288 with 1 Axes>"
      ]
     },
     "metadata": {},
     "output_type": "display_data"
    }
   ],
   "source": [
    "%matplotlib inline\n",
    "import matplotlib.pyplot as plt\n",
    "NQSheet.plot(kind='scatter', y='R_1_2_Pat_Chg_Cat', x='RQ_1_2_Close_PChg')"
   ]
  },
  {
   "cell_type": "heading",
   "metadata": {},
   "level": 2,
   "source": [
    "#"
   ]
  }
 ],
 "metadata": {
  "kernelspec": {
   "display_name": "Python 3",
   "language": "python",
   "name": "python3"
  },
  "language_info": {
   "codemirror_mode": {
    "name": "ipython",
    "version": 3
   },
   "file_extension": ".py",
   "mimetype": "text/x-python",
   "name": "python",
   "nbconvert_exporter": "python",
   "pygments_lexer": "ipython3",
   "version": "3.6.5"
  }
 },
 "nbformat": 4,
 "nbformat_minor": 2
}
